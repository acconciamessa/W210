{
 "cells": [
  {
   "cell_type": "code",
   "execution_count": 30,
   "metadata": {
    "collapsed": false
   },
   "outputs": [
    {
     "data": {
      "text/plain": [
       "'/Users/maccon/Desktop'"
      ]
     },
     "execution_count": 30,
     "metadata": {},
     "output_type": "execute_result"
    }
   ],
   "source": [
    "import numpy as np\n",
    "import pandas as pd\n",
    "import csv\n",
    "import os\n",
    "from sklearn import metrics\n",
    "from sklearn.linear_model import LogisticRegression\n",
    "from sklearn.grid_search import GridSearchCV\n",
    "from sklearn.neighbors import KNeighborsClassifier\n",
    "\n",
    "os.getcwd()"
   ]
  },
  {
   "cell_type": "code",
   "execution_count": 31,
   "metadata": {
    "collapsed": false
   },
   "outputs": [
    {
     "name": "stdout",
     "output_type": "stream",
     "text": [
      "(8044, 22)\n",
      "(8044, 1)\n"
     ]
    }
   ],
   "source": [
    "data = pd.read_csv('./Baseline.csv', sep=',')\n",
    "labels = pd.read_csv('./Labels.csv', sep=',')\n",
    "data = data[0:8044]\n",
    "print (data.shape)\n",
    "print (labels.shape)\n"
   ]
  },
  {
   "cell_type": "code",
   "execution_count": 32,
   "metadata": {
    "collapsed": false
   },
   "outputs": [
    {
     "name": "stdout",
     "output_type": "stream",
     "text": [
      "(1978, 22)\n",
      "(1978, 1)\n",
      "(6066, 22)\n",
      "(6066, 1)\n"
     ]
    }
   ],
   "source": [
    "np.random.seed(0)\n",
    "msk = np.random.rand(data.shape[0]) < 0.75\n",
    "\n",
    "split_train_data = data[msk]\n",
    "split_train_labels = labels[msk]\n",
    "\n",
    "split_test_data = data[~msk]\n",
    "split_test_labels = labels[~msk]\n",
    "\n",
    "print (split_test_data.shape)\n",
    "print (split_test_labels.shape)\n",
    "print (split_train_data.shape)\n",
    "print (split_train_labels.shape)"
   ]
  },
  {
   "cell_type": "code",
   "execution_count": 36,
   "metadata": {
    "collapsed": false
   },
   "outputs": [
    {
     "name": "stderr",
     "output_type": "stream",
     "text": [
      "/Library/Frameworks/Python.framework/Versions/3.5/lib/python3.5/site-packages/ipykernel/__main__.py:3: DataConversionWarning: A column-vector y was passed when a 1d array was expected. Please change the shape of y to (n_samples, ), for example using ravel().\n",
      "  app.launch_new_instance()\n"
     ]
    },
    {
     "name": "stdout",
     "output_type": "stream",
     "text": [
      "K: 1 F1: 0.679689574384\n",
      "K: 3 F1: 0.694478928515\n",
      "K: 5 F1: 0.694948678334\n",
      "K: 7 F1: 0.70364508735\n",
      "K: 9 F1: 0.703965962137\n",
      "K: 11 F1: 0.69775068256\n",
      "K: 13 F1: 0.69484078839\n",
      "K: 15 F1: 0.68910688324\n"
     ]
    }
   ],
   "source": [
    "def KNN(k):\n",
    "    knn = KNeighborsClassifier(n_neighbors=k)\n",
    "    knn.fit(split_train_data, split_train_labels)\n",
    "    test_preds = knn.predict(split_test_data)\n",
    "    print (\"K:\", k, \"F1:\", metrics.f1_score(split_test_labels, test_preds,average='weighted'))\n",
    "\n",
    "\n",
    "for i in [1,3,5,7,9,11,13,15]:\n",
    "    KNN(i)"
   ]
  },
  {
   "cell_type": "code",
   "execution_count": null,
   "metadata": {
    "collapsed": true
   },
   "outputs": [],
   "source": []
  }
 ],
 "metadata": {
  "kernelspec": {
   "display_name": "Python 3",
   "language": "python",
   "name": "python3"
  },
  "language_info": {
   "codemirror_mode": {
    "name": "ipython",
    "version": 3
   },
   "file_extension": ".py",
   "mimetype": "text/x-python",
   "name": "python",
   "nbconvert_exporter": "python",
   "pygments_lexer": "ipython3",
   "version": "3.5.1"
  }
 },
 "nbformat": 4,
 "nbformat_minor": 1
}
