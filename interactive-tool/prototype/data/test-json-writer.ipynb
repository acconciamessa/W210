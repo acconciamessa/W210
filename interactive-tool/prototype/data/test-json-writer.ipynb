{
 "cells": [
  {
   "cell_type": "code",
   "execution_count": 1,
   "metadata": {
    "collapsed": true
   },
   "outputs": [],
   "source": [
    "# Import libraries\n",
    "import json\n",
    "import numpy as np\n",
    "import os\n",
    "import pandas as pd"
   ]
  },
  {
   "cell_type": "code",
   "execution_count": 2,
   "metadata": {},
   "outputs": [],
   "source": [
    "# Make sure we can find the files we need\n",
    "assert(os.path.isfile('../../../Baseline.csv'))\n",
    "assert(os.path.isfile('../../../California.csv'))\n",
    "assert(os.path.isfile('../../../Labels.csv'))\n",
    "assert(os.path.isfile('./census-tract-feature-values.js'))"
   ]
  },
  {
   "cell_type": "code",
   "execution_count": 3,
   "metadata": {},
   "outputs": [
    {
     "name": "stdout",
     "output_type": "stream",
     "text": [
      "(8044, 147)\n",
      "Index([u'CensusTract', u'State', u'County', u'Urban', u'POP2010', u'OHU2010',\n",
      "       u'GroupQuartersFlag', u'NUMGQTRS', u'PCTGQTRS', u'LILATracts_1And10',\n",
      "       ...\n",
      "       u'TractSeniors', u'TractWhite', u'TractBlack', u'TractAsian',\n",
      "       u'TractNHOPI', u'TractAIAN', u'TractOMultir', u'TractHispanic',\n",
      "       u'TractHUNV', u'TractSNAP'],\n",
      "      dtype='object', length=147)\n"
     ]
    }
   ],
   "source": [
    "# Load data frame\n",
    "california = pd.read_csv('../../../California.csv', sep=',')\n",
    "print california.shape\n",
    "print california.columns"
   ]
  },
  {
   "cell_type": "code",
   "execution_count": 4,
   "metadata": {},
   "outputs": [
    {
     "name": "stdout",
     "output_type": "stream",
     "text": [
      "8044\n",
      "[6001400100 6001400200 6001400300 ..., 6115040902 6115041000 6115041100]\n"
     ]
    }
   ],
   "source": [
    "# Extract tract numbers from data frame\n",
    "tract_numbers = np.array(california['CensusTract'])\n",
    "print len(tract_numbers)\n",
    "print tract_numbers"
   ]
  },
  {
   "cell_type": "code",
   "execution_count": 5,
   "metadata": {},
   "outputs": [
    {
     "name": "stdout",
     "output_type": "stream",
     "text": [
      "{\"Feature Number 4\": 4444, \"Feature Number 1\": 1111, \"Feature Number 3\": 3333, \"Feature Number 2\": 2222}\n"
     ]
    }
   ],
   "source": [
    "# Create dummy feature value dict that we'll use for every census tract (for now...)\n",
    "feature_names=[\"Feature Number 1\", \"Feature Number 2\", \"Feature Number 3\", \"Feature Number 4\"]\n",
    "feature_dict = {feature_names[i]: (1111 * (i+1)) for i in range(len(feature_names))}\n",
    "print json.dumps(feature_dict)"
   ]
  },
  {
   "cell_type": "code",
   "execution_count": 6,
   "metadata": {},
   "outputs": [
    {
     "name": "stdout",
     "output_type": "stream",
     "text": [
      "{\n",
      "  \"6001400100\": {\n",
      "    \"Feature Number 4\": 4444, \n",
      "    \"Feature Number 1\": 1111, \n",
      "    \"Feature Number 3\": 3333, \n",
      "    \"Feature Number 2\": 2222\n",
      "  }, \n",
      "  \"6001400300\": {\n",
      "    \"Feature Number 4\": 4444, \n",
      "    \"Feature Number 1\": 1111, \n",
      "    \"Feature Number 3\": 3333, \n",
      "    \"Feature Number 2\": 2222\n",
      "  }, \n",
      "  \"6001400200\": {\n",
      "    \"Feature Number 4\": 4444, \n",
      "    \"Feature Number 1\": 1111, \n",
      "    \"Feature Number 3\": 3333, \n",
      "    \"Feature Number 2\": 2222\n",
      "  }\n",
      "}\n",
      "\n",
      "\n",
      "{\"6001400100\": {\"Feature Number 4\": 4444, \"Feature Number 1\": 1111, \"Feature Number 3\": 3333, \"Feature Number 2\": 2222}, \"6001400300\": {\"Feature Number 4\": 4444, \"Feature Number 1\": 1111, \"Feature Number 3\": 3333, \"Feature Number 2\": 2222}, \"6001400200\": {\"Feature Number 4\": 4444, \"Feature Number 1\": 1111, \"Feature Number 3\": 3333, \"Feature Number 2\": 2222}}\n"
     ]
    }
   ],
   "source": [
    "# Write some test code to write and read JSON objects for only a few census tracts\n",
    "test_write = {str(tract_num): feature_dict for tract_num in tract_numbers[:3]}\n",
    "\n",
    "with open('./census-tract-feature-values.js', 'w') as file_out:\n",
    "    file_out.write(json.dumps(test_write, indent = 2))\n",
    "    \n",
    "with open('./census-tract-feature-values.js', 'r') as file_in:\n",
    "    print file_in.read()\n",
    "    \n",
    "with open('./census-tract-feature-values.js', 'r') as file_in:\n",
    "    test_read = json.load(file_in)\n",
    "    \n",
    "assert(test_read is not None)\n",
    "print \"\\n\\n\" + json.dumps(test_read)"
   ]
  },
  {
   "cell_type": "code",
   "execution_count": 7,
   "metadata": {},
   "outputs": [
    {
     "name": "stdout",
     "output_type": "stream",
     "text": [
      "var tract_features = {\n",
      "\n",
      "  \"6065046602\": {\n",
      "\n",
      "    \"Feature Number 4\": 4444, \n",
      "\n",
      "    \"Feature Number 1\": 1111, \n",
      "\n",
      "    \"Feature Number 3\": 3333, \n",
      "\n",
      "    \"Feature Number 2\": 2222\n",
      "\n",
      "  }, \n",
      "\n",
      "  \"6065046601\": {\n",
      "\n",
      "    \"Feature Number 4\": 4444, \n",
      "\n",
      "    \"Feature Number 1\": 1111, \n",
      "\n",
      "    \"Feature Number 3\": 3333, \n",
      "\n",
      "    \"Feature Number 2\": 2222\n",
      "\n",
      "  }, \n",
      "\n",
      "  \"6115041100\": {\n",
      "\n",
      "    \"Feature Number 4\": 4444, \n",
      "\n",
      "    \"Feature Number 1\": 1111, \n",
      "\n",
      "    \"Feature Number 3\": 3333, \n",
      "\n",
      "    \"Feature Number 2\": 2222\n",
      "\n",
      "  }, \n",
      "\n",
      "  \"6075012202\": {\n",
      "\n",
      "    \"Feature Number 4\": 4444, \n",
      "\n",
      "    \"Feature Number 1\": 1111, \n",
      "\n",
      "    \"Feature Number 3\": 3333, \n",
      "\n",
      "    \"Feature Number 2\": 2222\n",
      "\n",
      "  }, \n",
      "\n"
     ]
    }
   ],
   "source": [
    "# Write and read JSON objects for the entire list of census tracts\n",
    "full_write = {str(tract_num): feature_dict for tract_num in tract_numbers}\n",
    "\n",
    "with open('./census-tract-feature-values.js', 'w') as file_out:\n",
    "    file_out.write(\"var tract_features = \")\n",
    "    file_out.write(json.dumps(full_write, indent = 2))\n",
    "    \n",
    "with open('./census-tract-feature-values.js', 'r') as file_in:\n",
    "    for i in range(25):\n",
    "        print file_in.readline()\n",
    "    \n",
    "# with open('./census-tract-feature-values.json', 'r') as file_in:\n",
    "#     full_read = json.load(file_in)\n",
    "    \n",
    "# assert(full_read is not None)\n",
    "# print len(full_read)"
   ]
  },
  {
   "cell_type": "code",
   "execution_count": null,
   "metadata": {
    "collapsed": true
   },
   "outputs": [],
   "source": []
  }
 ],
 "metadata": {
  "kernelspec": {
   "display_name": "Python 2",
   "language": "python",
   "name": "python2"
  },
  "language_info": {
   "codemirror_mode": {
    "name": "ipython",
    "version": 2
   },
   "file_extension": ".py",
   "mimetype": "text/x-python",
   "name": "python",
   "nbconvert_exporter": "python",
   "pygments_lexer": "ipython2",
   "version": "2.7.13"
  }
 },
 "nbformat": 4,
 "nbformat_minor": 2
}
