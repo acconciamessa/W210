{
 "cells": [
  {
   "cell_type": "code",
   "execution_count": 20,
   "metadata": {
    "collapsed": false
   },
   "outputs": [
    {
     "data": {
      "text/plain": [
       "'/Users/maccon/Desktop/210'"
      ]
     },
     "execution_count": 20,
     "metadata": {},
     "output_type": "execute_result"
    }
   ],
   "source": [
    "import numpy as np\n",
    "import pandas as pd\n",
    "import csv\n",
    "import os\n",
    "from sklearn import metrics\n",
    "from sklearn.linear_model import LogisticRegression\n",
    "from sklearn.grid_search import GridSearchCV\n",
    "from sklearn.neighbors import KNeighborsClassifier\n",
    "from sklearn.ensemble import RandomForestClassifier\n",
    "from sklearn.ensemble import AdaBoostClassifier \n",
    "from sklearn.tree import DecisionTreeClassifier\n",
    "\n",
    "os.getcwd()"
   ]
  },
  {
   "cell_type": "code",
   "execution_count": 21,
   "metadata": {
    "collapsed": false
   },
   "outputs": [
    {
     "name": "stdout",
     "output_type": "stream",
     "text": [
      "(8044, 22)\n",
      "(8044, 1)\n"
     ]
    }
   ],
   "source": [
    "data = pd.read_csv('./Baseline.csv', sep=',')\n",
    "labels = pd.read_csv('./Labels.csv', sep=',')\n",
    "data = data[0:8044]\n",
    "print (data.shape)\n",
    "print (labels.shape)\n"
   ]
  },
  {
   "cell_type": "code",
   "execution_count": 22,
   "metadata": {
    "collapsed": false
   },
   "outputs": [
    {
     "name": "stdout",
     "output_type": "stream",
     "text": [
      "(1978, 22)\n",
      "(1978, 1)\n",
      "(6066, 22)\n",
      "(6066, 1)\n"
     ]
    }
   ],
   "source": [
    "np.random.seed(0)\n",
    "msk = np.random.rand(data.shape[0]) < 0.75\n",
    "\n",
    "split_train_data = data[msk]\n",
    "split_train_labels = labels[msk]\n",
    "\n",
    "split_test_data = data[~msk]\n",
    "split_test_labels = labels[~msk]\n",
    "\n",
    "print (split_test_data.shape)\n",
    "print (split_test_labels.shape)\n",
    "print (split_train_data.shape)\n",
    "print (split_train_labels.shape)"
   ]
  },
  {
   "cell_type": "code",
   "execution_count": 23,
   "metadata": {
    "collapsed": false
   },
   "outputs": [
    {
     "name": "stderr",
     "output_type": "stream",
     "text": [
      "/Library/Frameworks/Python.framework/Versions/3.5/lib/python3.5/site-packages/ipykernel/__main__.py:3: DataConversionWarning: A column-vector y was passed when a 1d array was expected. Please change the shape of y to (n_samples, ), for example using ravel().\n",
      "  app.launch_new_instance()\n"
     ]
    },
    {
     "name": "stdout",
     "output_type": "stream",
     "text": [
      "K: 1 F1: 0.686552072801\n",
      "K: 3 F1: 0.718402426694\n",
      "K: 5 F1: 0.729019211325\n",
      "K: 7 F1: 0.743174924166\n",
      "K: 9 F1: 0.747219413549\n",
      "K: 11 F1: 0.74570273003\n",
      "K: 13 F1: 0.747219413549\n",
      "K: 15 F1: 0.748230535895\n"
     ]
    }
   ],
   "source": [
    "def KNN(k):\n",
    "    knn = KNeighborsClassifier(n_neighbors=k)\n",
    "    knn.fit(split_train_data, split_train_labels)\n",
    "    test_preds = knn.predict(split_test_data)\n",
    "    print (\"K:\", k, \"F1:\", metrics.accuracy_score(split_test_labels, test_preds))\n",
    "\n",
    "\n",
    "for i in [1,3,5,7,9,11,13,15]:\n",
    "    KNN(i)"
   ]
  },
  {
   "cell_type": "code",
   "execution_count": 25,
   "metadata": {
    "collapsed": false
   },
   "outputs": [
    {
     "name": "stderr",
     "output_type": "stream",
     "text": [
      "/Library/Frameworks/Python.framework/Versions/3.5/lib/python3.5/site-packages/ipykernel/__main__.py:2: DataConversionWarning: A column-vector y was passed when a 1d array was expected. Please change the shape of y to (n_samples,), for example using ravel().\n",
      "  from ipykernel import kernelapp as app\n"
     ]
    },
    {
     "name": "stdout",
     "output_type": "stream",
     "text": [
      "Accuracy (a random forest): 0.789686552073\n"
     ]
    },
    {
     "name": "stderr",
     "output_type": "stream",
     "text": [
      "/Library/Frameworks/Python.framework/Versions/3.5/lib/python3.5/site-packages/sklearn/utils/validation.py:529: DataConversionWarning: A column-vector y was passed when a 1d array was expected. Please change the shape of y to (n_samples, ), for example using ravel().\n",
      "  y = column_or_1d(y, warn=True)\n"
     ]
    },
    {
     "name": "stdout",
     "output_type": "stream",
     "text": [
      "Accuracy (adaboost with decision trees): 0.796258847321\n"
     ]
    }
   ],
   "source": [
    "rfc = RandomForestClassifier(n_estimators=500)\n",
    "rfc.fit(split_train_data, split_train_labels)\n",
    "\n",
    "print ('Accuracy (a random forest):', rfc.score(split_test_data, split_test_labels))\n",
    "\n",
    "abc = AdaBoostClassifier(base_estimator=DecisionTreeClassifier(max_depth=1), n_estimators=500, learning_rate=0.1)\n",
    "\n",
    "abc.fit(split_train_data, split_train_labels)\n",
    "print ('Accuracy (adaboost with decision trees):', abc.score(split_test_data, split_test_labels))"
   ]
  },
  {
   "cell_type": "code",
   "execution_count": 27,
   "metadata": {
    "collapsed": false
   },
   "outputs": [
    {
     "name": "stderr",
     "output_type": "stream",
     "text": [
      "/Library/Frameworks/Python.framework/Versions/3.5/lib/python3.5/site-packages/sklearn/utils/validation.py:529: DataConversionWarning: A column-vector y was passed when a 1d array was expected. Please change the shape of y to (n_samples, ), for example using ravel().\n",
      "  y = column_or_1d(y, warn=True)\n"
     ]
    },
    {
     "name": "stdout",
     "output_type": "stream",
     "text": [
      "C: 0.0001 F1: 0.774519716886\n",
      "C: 0.001 F1: 0.774014155713\n",
      "C: 0.01 F1: 0.776541961577\n",
      "C: 0.1 F1: 0.802325581395\n",
      "C: 1.0 F1: 0.806370070779\n",
      "C: 2.0 F1: 0.806370070779\n",
      "C: 5.0 F1: 0.807381193124\n",
      "C: 50 F1: 0.806875631951\n",
      "C: 100 F1: 0.806875631951\n"
     ]
    }
   ],
   "source": [
    "for c in [0.0001, 0.001, 0.01, 0.1, 1.0, 2.0, 5.0, 50, 100]:\n",
    "    logreg = LogisticRegression(C=c, penalty='l1')\n",
    "    logreg.fit(split_train_data, split_train_labels)\n",
    "    logregPred = logreg.predict(split_test_data)\n",
    "    print(\"C:\", c, \"F1:\", metrics.accuracy_score(split_test_labels,logregPred))"
   ]
  },
  {
   "cell_type": "code",
   "execution_count": null,
   "metadata": {
    "collapsed": true
   },
   "outputs": [],
   "source": []
  }
 ],
 "metadata": {
  "kernelspec": {
   "display_name": "Python 3",
   "language": "python",
   "name": "python3"
  },
  "language_info": {
   "codemirror_mode": {
    "name": "ipython",
    "version": 3
   },
   "file_extension": ".py",
   "mimetype": "text/x-python",
   "name": "python",
   "nbconvert_exporter": "python",
   "pygments_lexer": "ipython3",
   "version": "3.5.1"
  }
 },
 "nbformat": 4,
 "nbformat_minor": 1
}
