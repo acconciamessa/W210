{
 "cells": [
  {
   "cell_type": "code",
   "execution_count": 1,
   "metadata": {
    "scrolled": true
   },
   "outputs": [
    {
     "name": "stdout",
     "output_type": "stream",
     "text": [
      "('Accuracy:', 0.79032258064516125)\n",
      "--- 0.0654580593109 seconds ---\n"
     ]
    }
   ],
   "source": [
    "import numpy as np\n",
    "import pandas as pd\n",
    "import csv\n",
    "from sklearn import metrics\n",
    "from sklearn.linear_model import LogisticRegression\n",
    "\n",
    "#remove when transferring\n",
    "import time\n",
    "start_time = time.time()\n",
    "#end remove\n",
    "\n",
    "data = pd.read_csv('./Merged2.csv', sep=',')\n",
    "labels2 = pd.read_csv('./Labels2.csv', sep=',')\n",
    "data = data[0:8044]\n",
    "np.random.seed(0)\n",
    "msk2 = np.random.rand(data.shape[0]) < 0.9\n",
    "split_train_data2 = data[msk2]\n",
    "split_train_labels2 = np.ravel(labels2[msk2])\n",
    "split_test_data2 = data[~msk2]\n",
    "split_test_labels2 = np.ravel(labels2[~msk2])\n",
    "\n",
    "logreg = LogisticRegression(C=2.0, penalty='l1')\n",
    "logreg.fit(split_train_data2, split_train_labels2)\n",
    "logregPred = logreg.predict(split_test_data2)\n",
    "print(\"Accuracy:\", metrics.accuracy_score(split_test_labels2,logregPred))\n",
    "\n",
    "#remove when transferring\n",
    "print(\"--- %s seconds ---\" % (time.time() - start_time))\n",
    "#end remove"
   ]
  },
  {
   "cell_type": "code",
   "execution_count": 15,
   "metadata": {},
   "outputs": [
    {
     "name": "stdout",
     "output_type": "stream",
     "text": [
      "Intercept:\t-4.1395\n",
      "\n",
      "Urban:\t3.719\n",
      "PCTGQTRS:\t0.5722\n",
      "HUNVFlag:\t2.348\n",
      "Unemployment rate; Estimate; EDUCATIONAL ATTAINMENT 0 Some college or associate's degree:\t-0.0252\n",
      "Total; Estimate; Some college no degree:\t0.079\n"
     ]
    }
   ],
   "source": [
    "# print coefficients for trained logistic regression model\n",
    "\n",
    "print \"Intercept:\\t\" + str(round(logreg.intercept_[0], 4)) + \"\\n\"\n",
    "features = list(data)\n",
    "for i in range(len(features)):\n",
    "    print str(features[i]) + \":\\t\" + str(round(logreg.coef_[0][i], 4))"
   ]
  },
  {
   "cell_type": "code",
   "execution_count": null,
   "metadata": {
    "collapsed": true
   },
   "outputs": [],
   "source": []
  }
 ],
 "metadata": {
  "kernelspec": {
   "display_name": "Python 2",
   "language": "python",
   "name": "python2"
  },
  "language_info": {
   "codemirror_mode": {
    "name": "ipython",
    "version": 2
   },
   "file_extension": ".py",
   "mimetype": "text/x-python",
   "name": "python",
   "nbconvert_exporter": "python",
   "pygments_lexer": "ipython2",
   "version": "2.7.13"
  }
 },
 "nbformat": 4,
 "nbformat_minor": 1
}
