{
 "cells": [
  {
   "cell_type": "code",
   "execution_count": 10,
   "metadata": {
    "collapsed": false
   },
   "outputs": [
    {
     "name": "stdout",
     "output_type": "stream",
     "text": [
      "Accuracy: 0.790322580645\n",
      "--- 0.07750415802001953 seconds ---\n"
     ]
    }
   ],
   "source": [
    "import numpy as np\n",
    "import pandas as pd\n",
    "import csv\n",
    "from sklearn import metrics\n",
    "from sklearn.linear_model import LogisticRegression\n",
    "\n",
    "#remove when transferring\n",
    "import time\n",
    "start_time = time.time()\n",
    "#end remove\n",
    "\n",
    "data = pd.read_csv('./Merged2.csv', sep=',')\n",
    "labels2 = pd.read_csv('./Labels2.csv', sep=',')\n",
    "data = data[0:8044]\n",
    "np.random.seed(0)\n",
    "msk2 = np.random.rand(data.shape[0]) < 0.9\n",
    "split_train_data2 = data[msk2]\n",
    "split_train_labels2 = np.ravel(labels2[msk2])\n",
    "split_test_data2 = data[~msk2]\n",
    "split_test_labels2 = np.ravel(labels2[~msk2])\n",
    "\n",
    "logreg = LogisticRegression(C=2.0, penalty='l1')\n",
    "logreg.fit(split_train_data2, split_train_labels2)\n",
    "logregPred = logreg.predict(split_test_data2)\n",
    "print(\"Accuracy:\", metrics.accuracy_score(split_test_labels2,logregPred))\n",
    "\n",
    "#remove when transferring\n",
    "print(\"--- %s seconds ---\" % (time.time() - start_time))\n",
    "#end remove"
   ]
  },
  {
   "cell_type": "code",
   "execution_count": null,
   "metadata": {
    "collapsed": true
   },
   "outputs": [],
   "source": []
  }
 ],
 "metadata": {
  "kernelspec": {
   "display_name": "Python 3",
   "language": "python",
   "name": "python3"
  },
  "language_info": {
   "codemirror_mode": {
    "name": "ipython",
    "version": 3
   },
   "file_extension": ".py",
   "mimetype": "text/x-python",
   "name": "python",
   "nbconvert_exporter": "python",
   "pygments_lexer": "ipython3",
   "version": "3.5.1"
  }
 },
 "nbformat": 4,
 "nbformat_minor": 1
}
